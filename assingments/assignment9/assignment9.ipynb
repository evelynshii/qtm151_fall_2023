{
 "cells": [
  {
   "attachments": {},
   "cell_type": "markdown",
   "metadata": {},
   "source": [
    "# Assignment 9"
   ]
  },
  {
   "attachments": {},
   "cell_type": "markdown",
   "metadata": {},
   "source": [
    "## Try to submit as an HTML file"
   ]
  },
  {
   "attachments": {},
   "cell_type": "markdown",
   "metadata": {},
   "source": [
    "<font size = \"5\">\n",
    "Print your Emory ID below"
   ]
  },
  {
   "cell_type": "code",
   "execution_count": 1,
   "metadata": {},
   "outputs": [
    {
     "name": "stdout",
     "output_type": "stream",
     "text": [
      "2609525\n"
     ]
    }
   ],
   "source": [
    "# Write your answer here:\n",
    "print(2609525)"
   ]
  },
  {
   "attachments": {},
   "cell_type": "markdown",
   "metadata": {},
   "source": [
    "<font size = \"5\">\n",
    "\n",
    "Import the \"pandas\", \"sqlalchemy\" and \"URL\" libraries <br>\n",
    "(See Lecture 19)"
   ]
  },
  {
   "cell_type": "code",
   "execution_count": 4,
   "metadata": {},
   "outputs": [],
   "source": [
    "# Write your answer here:\n",
    "import pandas as pd\n",
    "from sqlalchemy import create_engine\n",
    "from   sqlalchemy.engine import URL\n",
    "from   sqlalchemy import text"
   ]
  },
  {
   "attachments": {},
   "cell_type": "markdown",
   "metadata": {},
   "source": [
    "<font size = \"5\">\n",
    "\n",
    "Establish a connection to the SQL server and database ```formula1``` <br>\n",
    "from Python as in Lecture 18 using <br>\n",
    "```URL()``` and ```create_engine()```"
   ]
  },
  {
   "cell_type": "code",
   "execution_count": 5,
   "metadata": {},
   "outputs": [],
   "source": [
    "# Write your own code\n",
    "url_server = URL.create(\n",
    "    \"postgresql\",\n",
    "    host = 'localhost',\n",
    "    database = 'formula1',\n",
    "    username = 'postgres',\n",
    "    port = 5432,\n",
    "    password  = '12345')\n",
    "\n",
    "connection = create_engine(url_server)"
   ]
  },
  {
   "attachments": {},
   "cell_type": "markdown",
   "metadata": {},
   "source": [
    "<font size = \"5\">\n",
    "\n",
    "In this homework, you will repeat the exercises in <br>\n",
    "Assignment 8, this time accessing SQL indirectly <br>\n",
    "from Python\n",
    "\n",
    "<font size = \"3\">\n",
    "\n",
    "- For (a)-(e) read the section <br>\n",
    "on \"Escape Characters\" carefully and how to write <br>\n",
    "strings in multiple lines\n",
    "- Remember that there is a special syntax for <br>\n",
    "column names that have capital letters"
   ]
  },
  {
   "attachments": {},
   "cell_type": "markdown",
   "metadata": {},
   "source": [
    "\n",
    "<font size = \"5\">\n",
    "\n",
    "(a) Import \"lap_times.csv\" and \"drivers.csv\"  \n",
    "\n",
    "<font size = \"3\">\n",
    "\n",
    "- Import the data using ```pd.read_csv()```\n",
    "- Upload to the server using  ```.to_sql()```\n",
    "- Upload the CSV files to the server, even if you already have the tables"
   ]
  },
  {
   "cell_type": "code",
   "execution_count": 6,
   "metadata": {},
   "outputs": [
    {
     "data": {
      "text/plain": [
       "857"
      ]
     },
     "execution_count": 6,
     "metadata": {},
     "output_type": "execute_result"
    }
   ],
   "source": [
    "# Write your own code\n",
    "lap_times = pd.read_csv(\"data_raw/lap_times.csv\")\n",
    "drivers = pd.read_csv(\"data_raw/drivers.csv\")\n",
    "\n",
    "lap_times.to_sql('races', \n",
    "             con = connection, \n",
    "             if_exists='replace',\n",
    "             index=False)\n",
    "\n",
    "drivers.to_sql('races', \n",
    "             con = connection, \n",
    "             if_exists='replace',\n",
    "             index=False)\n",
    "\n"
   ]
  },
  {
   "attachments": {},
   "cell_type": "markdown",
   "metadata": {},
   "source": [
    "<font size = \"5\">\n",
    "\n",
    "(b) Subset and sort\n",
    "\n",
    "<font size = \"3\">\n",
    "\n",
    "- In this exercise use the function ```.read_sql()```\n",
    "- Use ```WHERE``` to get a subset of \"drivers\" with \n",
    "```nationality = 'American'```\n",
    "- Chain this with ```ORDER BY surname ASC``` to sort in <br>\n",
    "ascending order\n",
    "\n",
    "HINT: Use single quotes inside a string as in Lecture 20"
   ]
  },
  {
   "cell_type": "code",
   "execution_count": 9,
   "metadata": {},
   "outputs": [
    {
     "name": "stdout",
     "output_type": "stream",
     "text": [
      "     driverId       driverRef number code forename     surname         dob  \\\n",
      "0         796            ader     \\N   \\N     Walt        Ader  1913-12-15   \n",
      "1         615      agabashian     \\N   \\N     Fred  Agabashian  1913-08-21   \n",
      "2         517           amick     \\N   \\N      Red       Amick  1929-01-19   \n",
      "3         591    george_amick     \\N   \\N   George       Amick  1924-10-24   \n",
      "4         121        andretti     \\N   \\N  Michael    Andretti  1962-10-05   \n",
      "..        ...             ...    ...  ...      ...         ...         ...   \n",
      "153       449            ward     \\N   \\N   Rodger        Ward  1921-01-10   \n",
      "154       677            webb     \\N   \\N   Travis        Webb  1910-10-08   \n",
      "155       530          weiler     \\N   \\N    Wayne      Weiler  1934-12-09   \n",
      "156       563          weyant     \\N   \\N    Chuck      Weyant  1923-04-03   \n",
      "157       539  dempsey_wilson     \\N   \\N  Dempsey      Wilson  1927-03-11   \n",
      "\n",
      "    nationality                                            url  \n",
      "0      American         http://en.wikipedia.org/wiki/Walt_Ader  \n",
      "1      American   http://en.wikipedia.org/wiki/Fred_Agabashian  \n",
      "2      American         http://en.wikipedia.org/wiki/Red_Amick  \n",
      "3      American      http://en.wikipedia.org/wiki/George_Amick  \n",
      "4      American  http://en.wikipedia.org/wiki/Michael_Andretti  \n",
      "..          ...                                            ...  \n",
      "153    American       http://en.wikipedia.org/wiki/Rodger_Ward  \n",
      "154    American       http://en.wikipedia.org/wiki/Travis_Webb  \n",
      "155    American      http://en.wikipedia.org/wiki/Wayne_Weiler  \n",
      "156    American      http://en.wikipedia.org/wiki/Chuck_Weyant  \n",
      "157    American    http://en.wikipedia.org/wiki/Dempsey_Wilson  \n",
      "\n",
      "[158 rows x 9 columns]\n"
     ]
    }
   ],
   "source": [
    "# Write your own code\n",
    "set1 = pd.read_sql(text(\"SELECT * \\\n",
    "                             FROM drivers \\\n",
    "                             WHERE nationality = 'American' \\\n",
    "                            ORDER BY surname ASC;\"), connection)\n",
    "\n",
    "print(set1)"
   ]
  },
  {
   "attachments": {},
   "cell_type": "markdown",
   "metadata": {},
   "source": [
    "<font size = \"5\">\n",
    "\n",
    "(c) Count unique values\n",
    "\n",
    "<font size = \"3\">\n",
    "\n",
    "- In this exercise use the function ```.read_sql()```\n",
    "- Count the number of unique \"driverId\" using ```COUNT(DISTINCT ...)``` <br>\n",
    "from the dataset \"drivers\"\n",
    "\n",
    "HINT: Include \\\\\"driverId\\\\\" in double quotations with an <br>\n",
    "escape character (see Lecture 20 for details) since <br>\n",
    "it has a mix of upper and lower case letters"
   ]
  },
  {
   "cell_type": "code",
   "execution_count": null,
   "metadata": {},
   "outputs": [],
   "source": [
    "set2 = pd.read_sql(text(\"SELECT COUNT(DISTINCT \\\"driverId\\)\" AS unique_driver_count \\ \n",
    "                        FROM drivers;\"), connection)"
   ]
  },
  {
   "attachments": {},
   "cell_type": "markdown",
   "metadata": {},
   "source": [
    "<font size = \"5\">\n",
    "\n",
    "(d) Groupby + Aggregate + Sort\n",
    "\n",
    "<font size = \"3\">\n",
    "\n",
    "- In this exercise use the function ```.read_sql()```\n",
    "- Obtain the average of \"milliseconds\" by \"driverId\" using ```GROUP BY```\n",
    "- User ```ORDER BY ``` to sort on the average of milliseconds\n",
    "\n",
    "HINT: Include \\\\\"driverId\\\\\" in double quotations with an <br>\n",
    "escape character (see Lecture 20 for details) since <br>\n",
    "it has a mix of upper and lower case letters"
   ]
  },
  {
   "cell_type": "code",
   "execution_count": 15,
   "metadata": {},
   "outputs": [
    {
     "name": "stdout",
     "output_type": "stream",
     "text": [
      "   mean_milliseconds\n",
      "0            73984.0\n",
      "1            89626.0\n",
      "2            98109.0\n"
     ]
    }
   ],
   "source": [
    "set3 = pd.read_sql(text(\"SELECT AVG(milliseconds) as mean_milliseconds \\\n",
    "                        FROM lap_times \\\n",
    "                        GROUP BY \\\"driverId\\\" \\\n",
    "                        ORDER BY mean_milliseconds;\"), connection)\n",
    "\n",
    "print(set3)"
   ]
  },
  {
   "attachments": {},
   "cell_type": "markdown",
   "metadata": {},
   "source": [
    "<font size = \"5\">\n",
    "\n",
    "(e) Merge two tables\n",
    "\n",
    "<font size = \"3\">\n",
    "\n",
    "- In this exercise use the function ```.read_sql()```\n",
    "- Merge the tables \"lap_times\" (primary) and \"drivers\" (secondary) <br>\n",
    "on \"driverId\" using ```LEFT JOIN``` on \"driverId\".\n",
    "\n",
    "HINT: Include \\\\\"driverId\\\\\" in double quotations with an <br>\n",
    "escape character (see Lecture 20 for details) since <br>\n",
    "it has a mix of upper and lower case letters"
   ]
  },
  {
   "cell_type": "code",
   "execution_count": 16,
   "metadata": {},
   "outputs": [
    {
     "name": "stdout",
     "output_type": "stream",
     "text": [
      "   raceId  driverId  lap  position     time  milliseconds  driverId driverRef  \\\n",
      "0     841        20    1         1  01:38.1         98109        20    vettel   \n",
      "1     167        64   48        10  01:14.0         73984        64     diniz   \n",
      "2     341         3   65        13  01:29.6         89626         3   rosberg   \n",
      "\n",
      "  number code   forename  surname         dob nationality  \\\n",
      "0      5  VET  Sebastian   Vettel  1987-07-03      German   \n",
      "1     \\N   \\N      Pedro    Diniz  1970-05-22   Brazilian   \n",
      "2      6  ROS       Nico  Rosberg  1985-06-27      German   \n",
      "\n",
      "                                             url  \n",
      "0  http://en.wikipedia.org/wiki/Sebastian_Vettel  \n",
      "1       http://en.wikipedia.org/wiki/Pedro_Diniz  \n",
      "2      http://en.wikipedia.org/wiki/Nico_Rosberg  \n"
     ]
    }
   ],
   "source": [
    "# Write your own code\n",
    "set4 = pd.read_sql(text(\"SELECT *\\\n",
    "                        FROM lap_times\\\n",
    "                        LEFT JOIN drivers\\\n",
    "                        ON lap_times.\\\"driverId\\\" = drivers.\\\"driverId\\\";\"), connection)\n",
    "\n",
    "print(set4)"
   ]
  }
 ],
 "metadata": {
  "kernelspec": {
   "display_name": "base",
   "language": "python",
   "name": "python3"
  },
  "language_info": {
   "codemirror_mode": {
    "name": "ipython",
    "version": 3
   },
   "file_extension": ".py",
   "mimetype": "text/x-python",
   "name": "python",
   "nbconvert_exporter": "python",
   "pygments_lexer": "ipython3",
   "version": "3.11.4"
  },
  "orig_nbformat": 4,
  "vscode": {
   "interpreter": {
    "hash": "45fc1f684f6f416f40889115beff3ddf69879b64cf4bfee48cb72a61e9d15d1a"
   }
  }
 },
 "nbformat": 4,
 "nbformat_minor": 2
}
