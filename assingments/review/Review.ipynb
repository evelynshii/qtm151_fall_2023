{
 "cells": [
  {
   "attachments": {},
   "cell_type": "markdown",
   "metadata": {},
   "source": [
    "# <span style=\"color:darkblue\"> Review </span>\n",
    "\n",
    "<font size = \"5\">\n",
    "\n"
   ]
  },
  {
   "attachments": {},
   "cell_type": "markdown",
   "metadata": {},
   "source": [
    "# <span style=\"color:darkblue\"> I. Import Libraries and Data </span>\n"
   ]
  },
  {
   "cell_type": "code",
   "execution_count": 2,
   "metadata": {},
   "outputs": [],
   "source": [
    "import numpy as np\n",
    "import pandas as pd\n",
    "import matplotlib.pyplot as plt"
   ]
  },
  {
   "cell_type": "code",
   "execution_count": 3,
   "metadata": {},
   "outputs": [],
   "source": [
    "carfeatures = pd.read_csv(\"data_raw/features.csv\")"
   ]
  },
  {
   "attachments": {},
   "cell_type": "markdown",
   "metadata": {},
   "source": [
    "# <span style=\"color:darkblue\"> I. Random Assignment </span>\n",
    "\n",
    "<font size = \"5\">\n",
    "\n",
    "Random assignment is crucial for scientific progress ...\n",
    "\n",
    "- The basis for medical trials\n",
    "- Also used in engineering, the natural sciences and <br>\n",
    "  social sciences (economics, political science, etc.)\n"
   ]
  },
  {
   "cell_type": "code",
   "execution_count": 4,
   "metadata": {},
   "outputs": [],
   "source": [
    "# \"list_status\" is a list with \"treatment/control\" arms\n",
    "# \"prop_status\" is the proportion in the treatment and control arms\n",
    "# \"size_dataset\" is how many rows are contained\n",
    "\n",
    "list_status  = [\"Treatment\",\"Control\"]\n",
    "prop_status  = [0.4,0.6]\n",
    "size_dataset = len(carfeatures)"
   ]
  },
  {
   "attachments": {},
   "cell_type": "markdown",
   "metadata": {},
   "source": [
    "<font size = \"5\">\n",
    "Random assignment\n"
   ]
  },
  {
   "cell_type": "code",
   "execution_count": 1,
   "metadata": {},
   "outputs": [
    {
     "ename": "NameError",
     "evalue": "name 'np' is not defined",
     "output_type": "error",
     "traceback": [
      "\u001b[0;31m---------------------------------------------------------------------------\u001b[0m",
      "\u001b[0;31mNameError\u001b[0m                                 Traceback (most recent call last)",
      "Cell \u001b[0;32mIn[1], line 6\u001b[0m\n\u001b[1;32m      1\u001b[0m \u001b[39m# The \"np.random.choice\" will create a vector with the status\u001b[39;00m\n\u001b[1;32m      2\u001b[0m \u001b[39m# We will save this to a column in \"carfeatures\"\u001b[39;00m\n\u001b[1;32m      3\u001b[0m \u001b[39m# Note: (i) We can always split the arguments of a function in multiple lines\u001b[39;00m\n\u001b[1;32m      4\u001b[0m \u001b[39m#           to make it easier to read\u001b[39;00m\n\u001b[0;32m----> 6\u001b[0m carfeatures[\u001b[39m\"\u001b[39m\u001b[39mstatus\u001b[39m\u001b[39m\"\u001b[39m] \u001b[39m=\u001b[39m np\u001b[39m.\u001b[39mrandom\u001b[39m.\u001b[39mchoice(list_status, size \u001b[39m=\u001b[39m size_dataset, p \u001b[39m=\u001b[39m prop_status)\n\u001b[1;32m      8\u001b[0m display(carfeatures)\n",
      "\u001b[0;31mNameError\u001b[0m: name 'np' is not defined"
     ]
    }
   ],
   "source": [
    "# The \"np.random.choice\" will create a vector with the status\n",
    "# We will save this to a column in \"carfeatures\"\n",
    "# Note: (i) We can always split the arguments of a function in multiple lines\n",
    "#           to make it easier to read\n",
    "\n",
    "carfeatures[\"status\"] = np.random.choice(list_status, size = size_dataset, p = prop_status)\n",
    "\n",
    "display(carfeatures)"
   ]
  },
  {
   "attachments": {},
   "cell_type": "markdown",
   "metadata": {},
   "source": [
    "<font size = \"5\">\n",
    "\n",
    "Compute frequencies by status"
   ]
  },
  {
   "cell_type": "code",
   "execution_count": 39,
   "metadata": {},
   "outputs": [
    {
     "data": {
      "text/html": [
       "<div>\n",
       "<style scoped>\n",
       "    .dataframe tbody tr th:only-of-type {\n",
       "        vertical-align: middle;\n",
       "    }\n",
       "\n",
       "    .dataframe tbody tr th {\n",
       "        vertical-align: top;\n",
       "    }\n",
       "\n",
       "    .dataframe thead th {\n",
       "        text-align: right;\n",
       "    }\n",
       "</style>\n",
       "<table border=\"1\" class=\"dataframe\">\n",
       "  <thead>\n",
       "    <tr style=\"text-align: right;\">\n",
       "      <th>col_0</th>\n",
       "      <th>Frequency</th>\n",
       "    </tr>\n",
       "    <tr>\n",
       "      <th>status</th>\n",
       "      <th></th>\n",
       "    </tr>\n",
       "  </thead>\n",
       "  <tbody>\n",
       "    <tr>\n",
       "      <th>Control</th>\n",
       "      <td>251</td>\n",
       "    </tr>\n",
       "    <tr>\n",
       "      <th>Treatment</th>\n",
       "      <td>147</td>\n",
       "    </tr>\n",
       "  </tbody>\n",
       "</table>\n",
       "</div>"
      ],
      "text/plain": [
       "col_0      Frequency\n",
       "status              \n",
       "Control          251\n",
       "Treatment        147"
      ]
     },
     "metadata": {},
     "output_type": "display_data"
    },
    {
     "data": {
      "text/html": [
       "<div>\n",
       "<style scoped>\n",
       "    .dataframe tbody tr th:only-of-type {\n",
       "        vertical-align: middle;\n",
       "    }\n",
       "\n",
       "    .dataframe tbody tr th {\n",
       "        vertical-align: top;\n",
       "    }\n",
       "\n",
       "    .dataframe thead th {\n",
       "        text-align: right;\n",
       "    }\n",
       "</style>\n",
       "<table border=\"1\" class=\"dataframe\">\n",
       "  <thead>\n",
       "    <tr style=\"text-align: right;\">\n",
       "      <th>col_0</th>\n",
       "      <th>Frequency</th>\n",
       "    </tr>\n",
       "    <tr>\n",
       "      <th>status</th>\n",
       "      <th></th>\n",
       "    </tr>\n",
       "  </thead>\n",
       "  <tbody>\n",
       "    <tr>\n",
       "      <th>Control</th>\n",
       "      <td>0.630653</td>\n",
       "    </tr>\n",
       "    <tr>\n",
       "      <th>Treatment</th>\n",
       "      <td>0.369347</td>\n",
       "    </tr>\n",
       "  </tbody>\n",
       "</table>\n",
       "</div>"
      ],
      "text/plain": [
       "col_0      Frequency\n",
       "status              \n",
       "Control     0.630653\n",
       "Treatment   0.369347"
      ]
     },
     "metadata": {},
     "output_type": "display_data"
    }
   ],
   "source": [
    "# The command \"pd.crosstab\" computes frequencies\n",
    "# If we add the option \"normalize\" it will compute proportions\n",
    "# Note: The default assignment is done randomly without replacement\n",
    "#       which means that the proportions are approximately the same   \n",
    "#       (but not equal) to \"prop_status\"\n",
    "\n",
    "frequency_table   = pd.crosstab(index = carfeatures[\"status\"], columns = \"Frequency\")\n",
    "proportions_table = pd.crosstab(index = carfeatures[\"status\"],\n",
    "                                columns = \"Frequency\",\n",
    "                                normalize = True)\n",
    "\n",
    "display(frequency_table)\n",
    "display(proportions_table)\n"
   ]
  },
  {
   "attachments": {},
   "cell_type": "markdown",
   "metadata": {},
   "source": [
    "<font size = \"5\">\n",
    "\n",
    "Query with string conditions"
   ]
  },
  {
   "cell_type": "code",
   "execution_count": 44,
   "metadata": {},
   "outputs": [],
   "source": [
    "# When you have queries for text variables, it's important\n",
    "# to use outer ' ' single quotations\n",
    "# and inner double quotations.\n",
    "\n",
    "data_treated = carfeatures.query('status == \"Treatment\" ')\n",
    "data_control = carfeatures.query('status == \"Control\" ')"
   ]
  },
  {
   "attachments": {},
   "cell_type": "markdown",
   "metadata": {},
   "source": [
    "<font size = \"5\">\n",
    "\n",
    "Treated/control should be similar\n",
    "\n",
    "- This is the key principle of random assignment\n",
    "- We can check the summary statistics"
   ]
  },
  {
   "cell_type": "code",
   "execution_count": 46,
   "metadata": {},
   "outputs": [
    {
     "data": {
      "text/html": [
       "<div>\n",
       "<style scoped>\n",
       "    .dataframe tbody tr th:only-of-type {\n",
       "        vertical-align: middle;\n",
       "    }\n",
       "\n",
       "    .dataframe tbody tr th {\n",
       "        vertical-align: top;\n",
       "    }\n",
       "\n",
       "    .dataframe thead th {\n",
       "        text-align: right;\n",
       "    }\n",
       "</style>\n",
       "<table border=\"1\" class=\"dataframe\">\n",
       "  <thead>\n",
       "    <tr style=\"text-align: right;\">\n",
       "      <th></th>\n",
       "      <th>mpg</th>\n",
       "      <th>cylinders</th>\n",
       "      <th>displacement</th>\n",
       "      <th>weight</th>\n",
       "      <th>acceleration</th>\n",
       "    </tr>\n",
       "  </thead>\n",
       "  <tbody>\n",
       "    <tr>\n",
       "      <th>count</th>\n",
       "      <td>145.000000</td>\n",
       "      <td>145.000000</td>\n",
       "      <td>145.000000</td>\n",
       "      <td>145.000000</td>\n",
       "      <td>145.000000</td>\n",
       "    </tr>\n",
       "    <tr>\n",
       "      <th>mean</th>\n",
       "      <td>23.656552</td>\n",
       "      <td>5.558621</td>\n",
       "      <td>194.965517</td>\n",
       "      <td>2999.124138</td>\n",
       "      <td>15.622069</td>\n",
       "    </tr>\n",
       "    <tr>\n",
       "      <th>std</th>\n",
       "      <td>8.487383</td>\n",
       "      <td>1.735559</td>\n",
       "      <td>103.989477</td>\n",
       "      <td>862.268865</td>\n",
       "      <td>2.806626</td>\n",
       "    </tr>\n",
       "    <tr>\n",
       "      <th>min</th>\n",
       "      <td>9.000000</td>\n",
       "      <td>4.000000</td>\n",
       "      <td>68.000000</td>\n",
       "      <td>1760.000000</td>\n",
       "      <td>9.500000</td>\n",
       "    </tr>\n",
       "    <tr>\n",
       "      <th>25%</th>\n",
       "      <td>17.000000</td>\n",
       "      <td>4.000000</td>\n",
       "      <td>98.000000</td>\n",
       "      <td>2200.000000</td>\n",
       "      <td>13.900000</td>\n",
       "    </tr>\n",
       "    <tr>\n",
       "      <th>50%</th>\n",
       "      <td>22.000000</td>\n",
       "      <td>4.000000</td>\n",
       "      <td>144.000000</td>\n",
       "      <td>2910.000000</td>\n",
       "      <td>15.000000</td>\n",
       "    </tr>\n",
       "    <tr>\n",
       "      <th>75%</th>\n",
       "      <td>29.900000</td>\n",
       "      <td>8.000000</td>\n",
       "      <td>302.000000</td>\n",
       "      <td>3672.000000</td>\n",
       "      <td>17.300000</td>\n",
       "    </tr>\n",
       "    <tr>\n",
       "      <th>max</th>\n",
       "      <td>46.600000</td>\n",
       "      <td>8.000000</td>\n",
       "      <td>455.000000</td>\n",
       "      <td>5140.000000</td>\n",
       "      <td>24.600000</td>\n",
       "    </tr>\n",
       "  </tbody>\n",
       "</table>\n",
       "</div>"
      ],
      "text/plain": [
       "              mpg   cylinders  displacement       weight  acceleration\n",
       "count  145.000000  145.000000    145.000000   145.000000    145.000000\n",
       "mean    23.656552    5.558621    194.965517  2999.124138     15.622069\n",
       "std      8.487383    1.735559    103.989477   862.268865      2.806626\n",
       "min      9.000000    4.000000     68.000000  1760.000000      9.500000\n",
       "25%     17.000000    4.000000     98.000000  2200.000000     13.900000\n",
       "50%     22.000000    4.000000    144.000000  2910.000000     15.000000\n",
       "75%     29.900000    8.000000    302.000000  3672.000000     17.300000\n",
       "max     46.600000    8.000000    455.000000  5140.000000     24.600000"
      ]
     },
     "metadata": {},
     "output_type": "display_data"
    },
    {
     "data": {
      "text/html": [
       "<div>\n",
       "<style scoped>\n",
       "    .dataframe tbody tr th:only-of-type {\n",
       "        vertical-align: middle;\n",
       "    }\n",
       "\n",
       "    .dataframe tbody tr th {\n",
       "        vertical-align: top;\n",
       "    }\n",
       "\n",
       "    .dataframe thead th {\n",
       "        text-align: right;\n",
       "    }\n",
       "</style>\n",
       "<table border=\"1\" class=\"dataframe\">\n",
       "  <thead>\n",
       "    <tr style=\"text-align: right;\">\n",
       "      <th></th>\n",
       "      <th>mpg</th>\n",
       "      <th>cylinders</th>\n",
       "      <th>displacement</th>\n",
       "      <th>weight</th>\n",
       "      <th>acceleration</th>\n",
       "    </tr>\n",
       "  </thead>\n",
       "  <tbody>\n",
       "    <tr>\n",
       "      <th>count</th>\n",
       "      <td>253.000000</td>\n",
       "      <td>253.000000</td>\n",
       "      <td>253.000000</td>\n",
       "      <td>253.000000</td>\n",
       "      <td>253.000000</td>\n",
       "    </tr>\n",
       "    <tr>\n",
       "      <th>mean</th>\n",
       "      <td>23.433202</td>\n",
       "      <td>5.395257</td>\n",
       "      <td>192.545455</td>\n",
       "      <td>2953.976285</td>\n",
       "      <td>15.537154</td>\n",
       "    </tr>\n",
       "    <tr>\n",
       "      <th>std</th>\n",
       "      <td>7.420168</td>\n",
       "      <td>1.681451</td>\n",
       "      <td>104.624019</td>\n",
       "      <td>839.151120</td>\n",
       "      <td>2.734372</td>\n",
       "    </tr>\n",
       "    <tr>\n",
       "      <th>min</th>\n",
       "      <td>10.000000</td>\n",
       "      <td>3.000000</td>\n",
       "      <td>70.000000</td>\n",
       "      <td>1613.000000</td>\n",
       "      <td>8.000000</td>\n",
       "    </tr>\n",
       "    <tr>\n",
       "      <th>25%</th>\n",
       "      <td>17.500000</td>\n",
       "      <td>4.000000</td>\n",
       "      <td>105.000000</td>\n",
       "      <td>2245.000000</td>\n",
       "      <td>13.800000</td>\n",
       "    </tr>\n",
       "    <tr>\n",
       "      <th>50%</th>\n",
       "      <td>23.000000</td>\n",
       "      <td>4.000000</td>\n",
       "      <td>151.000000</td>\n",
       "      <td>2735.000000</td>\n",
       "      <td>15.500000</td>\n",
       "    </tr>\n",
       "    <tr>\n",
       "      <th>75%</th>\n",
       "      <td>28.800000</td>\n",
       "      <td>6.000000</td>\n",
       "      <td>258.000000</td>\n",
       "      <td>3563.000000</td>\n",
       "      <td>17.000000</td>\n",
       "    </tr>\n",
       "    <tr>\n",
       "      <th>max</th>\n",
       "      <td>44.600000</td>\n",
       "      <td>8.000000</td>\n",
       "      <td>455.000000</td>\n",
       "      <td>4997.000000</td>\n",
       "      <td>24.800000</td>\n",
       "    </tr>\n",
       "  </tbody>\n",
       "</table>\n",
       "</div>"
      ],
      "text/plain": [
       "              mpg   cylinders  displacement       weight  acceleration\n",
       "count  253.000000  253.000000    253.000000   253.000000    253.000000\n",
       "mean    23.433202    5.395257    192.545455  2953.976285     15.537154\n",
       "std      7.420168    1.681451    104.624019   839.151120      2.734372\n",
       "min     10.000000    3.000000     70.000000  1613.000000      8.000000\n",
       "25%     17.500000    4.000000    105.000000  2245.000000     13.800000\n",
       "50%     23.000000    4.000000    151.000000  2735.000000     15.500000\n",
       "75%     28.800000    6.000000    258.000000  3563.000000     17.000000\n",
       "max     44.600000    8.000000    455.000000  4997.000000     24.800000"
      ]
     },
     "metadata": {},
     "output_type": "display_data"
    }
   ],
   "source": [
    "# The count is different because we assigned different proportions\n",
    "# All other sumary statistics are approximately the same\n",
    "# They are not identical because the assignment is random\n",
    "\n",
    "display(data_treated.describe())\n",
    "display(data_control.describe())"
   ]
  },
  {
   "attachments": {},
   "cell_type": "markdown",
   "metadata": {},
   "source": [
    "## <span style=\"color:darkblue\"> III. Quiz Structure </span>\n",
    "\n",
    "<font size = \"5\">\n",
    "\n",
    "The day of the quiz I will ...\n",
    "- Provide a dataset with information\n",
    "- Give more specific instructions.\n",
    "- Below, you will see the type of questions that will be asked.\n",
    "- The idea is for you to apply known concepts to new data\n",
    "- You have 50 minutes to complete the assignment\n",
    "\n",
    "Questions\n",
    "\n",
    "(exact wording may change in quiz, but exercise will be very similar)\n"
   ]
  },
  {
   "attachments": {},
   "cell_type": "markdown",
   "metadata": {},
   "source": [
    "<font size = \"5\">\n",
    "\n",
    "(a) Create a function and apply it to a column\n",
    "\n",
    "- Check Lecture 8 for how to define a function\n",
    "- The function will have if/else statements and output a string\n",
    "- You will use \".apply()\" to create a new variable in the dataset <br>\n",
    "(see Lecture 9)"
   ]
  },
  {
   "cell_type": "code",
   "execution_count": null,
   "metadata": {},
   "outputs": [],
   "source": [
    "data = pd.DataFrame()\n",
    "data[\"age\"] = [16,18,20,22]\n",
    "def fn_agebracket(age):\n",
    "    if(age>=18)\n",
    "        status = \"Adult\"\n",
    "    elif(age >= 10) & (age<18):\n",
    "        status = \"Adolescent\"\n",
    "    else:\n",
    "        status = \"Child\"\n",
    "    return(status)\n",
    "data[\"age_bracket\"] = data[\"data\"].apply(fn_agebracket)\n",
    "print(data[\"age_bracket\"])"
   ]
  },
  {
   "attachments": {},
   "cell_type": "markdown",
   "metadata": {},
   "source": [
    "<font size = \"5\">\n",
    "\n",
    "(b) Use queries + global variables\n",
    "\n",
    "- You will be asked to compute certain summary statistics <br>\n",
    "(mean, median, etc)\n",
    "- The query will have multiple conditions\n",
    "- Then subset a dataset that meets certain conditions\n",
    "- See Lecture 10 for more details"
   ]
  },
  {
   "cell_type": "code",
   "execution_count": null,
   "metadata": {},
   "outputs": [],
   "source": [
    "ybar = dataset['y'].mean()\n",
    "stdv_sample = dataset['y'].std()\n",
    "dataset.query('abs(y-@ybar)<=@stdv_sample')"
   ]
  },
  {
   "attachments": {},
   "cell_type": "markdown",
   "metadata": {},
   "source": [
    "<font size = \"5\">\n",
    "\n",
    "(c) Use sorting + \".iloc[]\"\n",
    "\n",
    "- Extract the observations with the largest values of a column\n",
    "- See Lecture 10 for details"
   ]
  },
  {
   "cell_type": "code",
   "execution_count": null,
   "metadata": {},
   "outputs": [],
   "source": [
    "car_ascendingmpg = carfeatures.sort_values(by='mpg', ascending=True)\n",
    "car_ascendingmpg.iloc[:5]"
   ]
  },
  {
   "attachments": {},
   "cell_type": "markdown",
   "metadata": {},
   "source": [
    "<font size = \"5\">\n",
    "\n",
    "(d) Split a dataset into subsets\n",
    "\n",
    "- You will be asked to randomly assign a status to each row\n",
    "- Split the data into separate datasets using \".query()\"\n",
    "- This will closely follow the material in Lecture 12 (this one)\n",
    "- You will need this result to answer questions (e), (f)\n"
   ]
  },
  {
   "cell_type": "code",
   "execution_count": null,
   "metadata": {},
   "outputs": [],
   "source": [
    "\n",
    "list_status  = [\"Treatment\",\"Control\"]\n",
    "prop_status  = [0.4,0.6]\n",
    "size_dataset = len(carfeatures)\n",
    "\n",
    "carfeatures[\"status\"] = np.random.choice(list_status, size = size_dataset, p = prop_status)\n",
    "\n",
    "data_treated = carfeatures.query('status == \"Treatment\" ')\n",
    "data_control = carfeatures.query('status == \"Control\" ')"
   ]
  },
  {
   "attachments": {},
   "cell_type": "markdown",
   "metadata": {},
   "source": [
    "<font size = \"5\">\n",
    "\n",
    "(e) Create a function with four inputs $f(y,x,b0,b1)$\n",
    "\n",
    "- Start by using \"def\" to define the function\n",
    "- The function will include arithmetic operations (Lecture 3) <br>\n",
    "and summary statistics for pandas (mean, std, min, max, etc.)\n",
    "- You will be asked to test different values of $(y,x,b0,b1)$\n",
    "- You will get $y$ and $x$ from the two datasets in part (d)\n",
    "- Note: You will **not** be required to use the \"statsmodels\" library\n"
   ]
  },
  {
   "cell_type": "code",
   "execution_count": null,
   "metadata": {},
   "outputs": [],
   "source": []
  },
  {
   "attachments": {},
   "cell_type": "markdown",
   "metadata": {},
   "source": [
    "<font size = \"5\">\n",
    "\n",
    "(f) Create two overlapping histogram plots\n",
    "\n",
    "- You will use a variable from the two datasets in (d)\n",
    "- You need to use the \"alpha\" option to make the graphs semitransparent\n",
    "- You will need to add a legend, label the axes, and the title\n",
    "- Note: The goal of this question is to illustrate that random <br>\n",
    "assignment produces very similar distributions between two groups"
   ]
  },
  {
   "cell_type": "code",
   "execution_count": null,
   "metadata": {},
   "outputs": [],
   "source": [
    "data_urban = pd.read_csv(\"data/wdi_urban.csv\")\n",
    "list_unique_year = pd.unique(data_urban[\"year\"])\n",
    "\n",
    "for year in list_unique_year:\n",
    "    df = data_urban.query(\"year == @ year\")\n",
    "    plt.hist(x = df[\"prop_urbanpopulation\"], alpha = 0.5)\n",
    "\n",
    "plt.xlabel(\"Proportion Urban\")\n",
    "plt.ylabel(\"Frequency\")\n",
    "plt.legend(labels = list_unique_year, title = \"Year\")\n",
    "plt.show()"
   ]
  }
 ],
 "metadata": {
  "kernelspec": {
   "display_name": "Python 3",
   "language": "python",
   "name": "python3"
  },
  "language_info": {
   "codemirror_mode": {
    "name": "ipython",
    "version": 3
   },
   "file_extension": ".py",
   "mimetype": "text/x-python",
   "name": "python",
   "nbconvert_exporter": "python",
   "pygments_lexer": "ipython3",
   "version": "3.11.4"
  },
  "orig_nbformat": 4,
  "vscode": {
   "interpreter": {
    "hash": "aee8b7b246df8f9039afb4144a1f6fd8d2ca17a180786b69acc140d282b71a49"
   }
  }
 },
 "nbformat": 4,
 "nbformat_minor": 2
}
